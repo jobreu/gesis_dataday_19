{
 "cells": [
  {
   "cell_type": "markdown",
   "metadata": {},
   "source": [
    "# GESIS-Daten herunterladen, bearbeiten und explorieren mit R"
   ]
  },
  {
   "cell_type": "markdown",
   "metadata": {},
   "source": [
    "## Setup"
   ]
  },
  {
   "cell_type": "markdown",
   "metadata": {},
   "source": [
    "Zunächst müssen die benötigten R-Pakete geladen werden."
   ]
  },
  {
   "cell_type": "code",
   "execution_count": 3,
   "metadata": {},
   "outputs": [
    {
     "ename": "ERROR",
     "evalue": "Error in library(gesis): there is no package called 'gesis'\n",
     "output_type": "error",
     "traceback": [
      "Error in library(gesis): there is no package called 'gesis'\nTraceback:\n",
      "1. library(gesis)",
      "2. stop(txt, domain = NA)"
     ]
    }
   ],
   "source": [
    "library(tidyverse)\n",
    "library(haven)\n",
    "library(gesis)\n",
    "library(ggthemes)\n",
    "library(ggmap)"
   ]
  },
  {
   "cell_type": "markdown",
   "metadata": {},
   "source": [
    "Um in R Daten aus dem Datenbestandskatalog (DBK) von GESIS herunterladen zu können, muss ein Objekt mit Ihren Zugangsdaten für den DBK erzeugt werden. Hierzu müssen Sie in der nachfolgenden Code-Zelle die E-Mail-Adresse, die Sie für die Registrierung beim GESIS-DBK verwendet haben, sowie Ihr Passwort für den DBK-Account an den entsprechenden Stellen einfügen."
   ]
  },
  {
   "cell_type": "code",
   "execution_count": null,
   "metadata": {},
   "outputs": [],
   "source": [
    "s <- login(username = \"\", password = \"\")"
   ]
  },
  {
   "cell_type": "markdown",
   "metadata": {},
   "source": [
    "Mit dem nachfolgenden Befehl können Sie die im GESIS-DBK verfügbaren Studiengruppen explorieren."
   ]
  },
  {
   "cell_type": "code",
   "execution_count": null,
   "metadata": {},
   "outputs": [],
   "source": [
    "get_study_groups()"
   ]
  },
  {
   "cell_type": "markdown",
   "metadata": {},
   "source": [
    "In diesem Notebook arbeiten wir mit Daten aus der Allgemeinen Bevölkerungsumfrage der Sozialwissenschaften (ALLBUS) sowie der European Value Study (EVS). Mit den folgenden Befehlen können Sie schauen, welche Datensätze es für diese Umfrageprogramme im GESIS-DBK gibt."
   ]
  },
  {
   "cell_type": "code",
   "execution_count": null,
   "metadata": {},
   "outputs": [],
   "source": [
    "# ALLBUS\n",
    "get_datasets(\"0007\") %>% print(n=100)\n",
    "# EVS\n",
    "get_datasets(\"0009\") %>% print(n=100)"
   ]
  },
  {
   "cell_type": "markdown",
   "metadata": {},
   "source": [
    "## ALLBUS 1980-2016"
   ]
  },
  {
   "cell_type": "markdown",
   "metadata": {},
   "source": [
    "Im ersten Schritt müssen wir den Datensatz aus dem DBK herunterladen und in R einlesen. Im missverständlich benannten Argument doi der Funktion download_dataset muss die ZA-Studiennummer angegeben. Als Format wählen wir den SPSS-Datensatz aus (filetype = \".sav\") und geben als Zweck die wissenschaftliche Forschung an (purpose = 1). Für mehr Informationen zu diesen Argumenten können Sie die Hilfe zu dieser Funktion konsultieren (?download_dataset)."
   ]
  },
  {
   "cell_type": "code",
   "execution_count": null,
   "metadata": {},
   "outputs": [],
   "source": [
    "download_dataset(s, doi = \"4587\", filetype = \".sav\", purpose = 1)\n",
    "allbus_kum <- read_sav(\"ZA4587_v1-0-0.sav\")\n",
    "dim(allbus_kum)\n",
    "names(allbus_kum)"
   ]
  },
  {
   "cell_type": "markdown",
   "metadata": {},
   "source": [
    "Der Datensatz entält 64684 Fälle (Be"
   ]
  }
 ],
 "metadata": {
  "kernelspec": {
   "display_name": "R",
   "language": "R",
   "name": "ir"
  },
  "language_info": {
   "codemirror_mode": "r",
   "file_extension": ".r",
   "mimetype": "text/x-r-source",
   "name": "R",
   "pygments_lexer": "r",
   "version": "3.4.3"
  }
 },
 "nbformat": 4,
 "nbformat_minor": 2
}
